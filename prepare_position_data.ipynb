{
 "cells": [
  {
   "cell_type": "code",
   "execution_count": 1,
   "metadata": {},
   "outputs": [],
   "source": [
    "import scanpy as sc\n",
    "adata = sc.read('/home/zfeng/ssr/various_model/GSE194122_openproblems_neurips2021_multiome_BMMC_processed.h5ad')"
   ]
  },
  {
   "cell_type": "code",
   "execution_count": 2,
   "metadata": {},
   "outputs": [
    {
     "data": {
      "text/plain": [
       "AnnData object with n_obs × n_vars = 69249 × 13431\n",
       "    obs: 'GEX_pct_counts_mt', 'GEX_n_counts', 'GEX_n_genes', 'GEX_size_factors', 'GEX_phase', 'ATAC_nCount_peaks', 'ATAC_atac_fragments', 'ATAC_reads_in_peaks_frac', 'ATAC_blacklist_fraction', 'ATAC_nucleosome_signal', 'cell_type', 'batch', 'ATAC_pseudotime_order', 'GEX_pseudotime_order', 'Samplename', 'Site', 'DonorNumber', 'Modality', 'VendorLot', 'DonorID', 'DonorAge', 'DonorBMI', 'DonorBloodType', 'DonorRace', 'Ethnicity', 'DonorGender', 'QCMeds', 'DonorSmoker'\n",
       "    var: 'feature_types', 'gene_id'\n",
       "    uns: 'ATAC_gene_activity_var_names', 'dataset_id', 'genome', 'organism'\n",
       "    obsm: 'ATAC_gene_activity', 'ATAC_lsi_full', 'ATAC_lsi_red', 'ATAC_umap', 'GEX_X_pca', 'GEX_X_umap'\n",
       "    layers: 'counts'"
      ]
     },
     "execution_count": 2,
     "metadata": {},
     "output_type": "execute_result"
    }
   ],
   "source": [
    "adata_gex = adata[:,adata.var['feature_types']=='GEX'].copy()   # 69249 × 13431\n",
    "adata_gex"
   ]
  },
  {
   "cell_type": "code",
   "execution_count": 3,
   "metadata": {},
   "outputs": [
    {
     "data": {
      "text/plain": [
       "AnnData object with n_obs × n_vars = 69249 × 116490\n",
       "    obs: 'GEX_pct_counts_mt', 'GEX_n_counts', 'GEX_n_genes', 'GEX_size_factors', 'GEX_phase', 'ATAC_nCount_peaks', 'ATAC_atac_fragments', 'ATAC_reads_in_peaks_frac', 'ATAC_blacklist_fraction', 'ATAC_nucleosome_signal', 'cell_type', 'batch', 'ATAC_pseudotime_order', 'GEX_pseudotime_order', 'Samplename', 'Site', 'DonorNumber', 'Modality', 'VendorLot', 'DonorID', 'DonorAge', 'DonorBMI', 'DonorBloodType', 'DonorRace', 'Ethnicity', 'DonorGender', 'QCMeds', 'DonorSmoker'\n",
       "    var: 'feature_types', 'gene_id'\n",
       "    uns: 'ATAC_gene_activity_var_names', 'dataset_id', 'genome', 'organism'\n",
       "    obsm: 'ATAC_gene_activity', 'ATAC_lsi_full', 'ATAC_lsi_red', 'ATAC_umap', 'GEX_X_pca', 'GEX_X_umap'\n",
       "    layers: 'counts'"
      ]
     },
     "execution_count": 3,
     "metadata": {},
     "output_type": "execute_result"
    }
   ],
   "source": [
    "adata_atac = adata[:,adata.var['feature_types']=='ATAC'].copy()   # 69249 × 13431\n",
    "adata_atac"
   ]
  },
  {
   "cell_type": "code",
   "execution_count": 4,
   "metadata": {},
   "outputs": [],
   "source": [
    "import pandas as pd"
   ]
  },
  {
   "cell_type": "code",
   "execution_count": 5,
   "metadata": {},
   "outputs": [
    {
     "data": {
      "text/html": [
       "<div>\n",
       "<style scoped>\n",
       "    .dataframe tbody tr th:only-of-type {\n",
       "        vertical-align: middle;\n",
       "    }\n",
       "\n",
       "    .dataframe tbody tr th {\n",
       "        vertical-align: top;\n",
       "    }\n",
       "\n",
       "    .dataframe thead th {\n",
       "        text-align: right;\n",
       "    }\n",
       "</style>\n",
       "<table border=\"1\" class=\"dataframe\">\n",
       "  <thead>\n",
       "    <tr style=\"text-align: right;\">\n",
       "      <th></th>\n",
       "    </tr>\n",
       "  </thead>\n",
       "  <tbody>\n",
       "    <tr>\n",
       "      <th>AL627309.5</th>\n",
       "    </tr>\n",
       "    <tr>\n",
       "      <th>LINC01409</th>\n",
       "    </tr>\n",
       "    <tr>\n",
       "      <th>LINC01128</th>\n",
       "    </tr>\n",
       "    <tr>\n",
       "      <th>NOC2L</th>\n",
       "    </tr>\n",
       "    <tr>\n",
       "      <th>KLHL17</th>\n",
       "    </tr>\n",
       "    <tr>\n",
       "      <th>...</th>\n",
       "    </tr>\n",
       "    <tr>\n",
       "      <th>MT-ND5</th>\n",
       "    </tr>\n",
       "    <tr>\n",
       "      <th>MT-ND6</th>\n",
       "    </tr>\n",
       "    <tr>\n",
       "      <th>MT-CYB</th>\n",
       "    </tr>\n",
       "    <tr>\n",
       "      <th>AL592183.1</th>\n",
       "    </tr>\n",
       "    <tr>\n",
       "      <th>AC240274.1</th>\n",
       "    </tr>\n",
       "  </tbody>\n",
       "</table>\n",
       "<p>13431 rows × 0 columns</p>\n",
       "</div>"
      ],
      "text/plain": [
       "Empty DataFrame\n",
       "Columns: []\n",
       "Index: [AL627309.5, LINC01409, LINC01128, NOC2L, KLHL17, ISG15, C1orf159, SDF4, B3GALT6, UBE2J2, ACAP3, INTS11, DVL1, AURKAIP1, CCNL2, MRPL20, ATAD3B, ATAD3A, SSU72, MIB2, MMP23B, CDK11B, SLC35E2B, CDK11A, SLC35E2A, NADK, GNB1, PRKCZ, FAAP20, SKI, MORN1, RER1, PEX10, PLCH2, PANK4, AL139246.5, TNFRSF14-AS1, TNFRSF14, PRXL2B, TTC34, MEGF6, TPRG1L, WRAP73, SMIM1, LRRC47, CEP104, DFFB, C1orf174, NPHP4, KCNAB2, RPL22, ICMT, GPR153, ACOT7, ESPN, TNFRSF25, NOL9, ZBTB48, KLHL21, PHF13, THAP3, DNAJC11, CAMTA1, VAMP3, PER3, TNFRSF9, PARK7, ERRFI1, RERE, RERE-AS1, ENO1, SLC2A5, GPR157, H6PD, SPSB1, SLC25A33, TMEM201, PIK3CD, PIK3CD-AS2, CLSTN1, CTNNBIP1, LZIC, NMNAT1, RBP7, UBE4B, KIF1B, PGD, DFFA, PEX14, CASZ1, TARDBP, AL109811.2, SRM, EXOSC10, MTOR, UBIAD1, FBXO44, FBXO6, MAD2L2, DRAXIN, ...]\n",
       "\n",
       "[13431 rows x 0 columns]"
      ]
     },
     "execution_count": 5,
     "metadata": {},
     "output_type": "execute_result"
    }
   ],
   "source": [
    "genes_df=pd.DataFrame(index=adata_gex.var_names)\n",
    "genes_df"
   ]
  },
  {
   "cell_type": "code",
   "execution_count": 6,
   "metadata": {},
   "outputs": [
    {
     "data": {
      "text/html": [
       "<div>\n",
       "<style scoped>\n",
       "    .dataframe tbody tr th:only-of-type {\n",
       "        vertical-align: middle;\n",
       "    }\n",
       "\n",
       "    .dataframe tbody tr th {\n",
       "        vertical-align: top;\n",
       "    }\n",
       "\n",
       "    .dataframe thead th {\n",
       "        text-align: right;\n",
       "    }\n",
       "</style>\n",
       "<table border=\"1\" class=\"dataframe\">\n",
       "  <thead>\n",
       "    <tr style=\"text-align: right;\">\n",
       "      <th></th>\n",
       "    </tr>\n",
       "  </thead>\n",
       "  <tbody>\n",
       "    <tr>\n",
       "      <th>chr1-9776-10668</th>\n",
       "    </tr>\n",
       "    <tr>\n",
       "      <th>chr1-180726-181005</th>\n",
       "    </tr>\n",
       "    <tr>\n",
       "      <th>chr1-181117-181803</th>\n",
       "    </tr>\n",
       "    <tr>\n",
       "      <th>chr1-191133-192055</th>\n",
       "    </tr>\n",
       "    <tr>\n",
       "      <th>chr1-267562-268456</th>\n",
       "    </tr>\n",
       "    <tr>\n",
       "      <th>...</th>\n",
       "    </tr>\n",
       "    <tr>\n",
       "      <th>GL000219.1-90062-90937</th>\n",
       "    </tr>\n",
       "    <tr>\n",
       "      <th>GL000219.1-99257-100160</th>\n",
       "    </tr>\n",
       "    <tr>\n",
       "      <th>KI270726.1-27152-28034</th>\n",
       "    </tr>\n",
       "    <tr>\n",
       "      <th>KI270713.1-21434-22336</th>\n",
       "    </tr>\n",
       "    <tr>\n",
       "      <th>KI270713.1-29629-30491</th>\n",
       "    </tr>\n",
       "  </tbody>\n",
       "</table>\n",
       "<p>116490 rows × 0 columns</p>\n",
       "</div>"
      ],
      "text/plain": [
       "Empty DataFrame\n",
       "Columns: []\n",
       "Index: [chr1-9776-10668, chr1-180726-181005, chr1-181117-181803, chr1-191133-192055, chr1-267562-268456, chr1-629497-630394, chr1-633515-634474, chr1-778276-779191, chr1-816868-817761, chr1-822804-823597, chr1-827067-827948, chr1-838003-838737, chr1-841079-841916, chr1-842497-843414, chr1-844132-844995, chr1-857951-858596, chr1-865397-866322, chr1-869472-870377, chr1-876414-877141, chr1-897007-897897, chr1-898322-899246, chr1-904343-905196, chr1-906441-907357, chr1-910957-911659, chr1-912570-913458, chr1-920754-921598, chr1-923380-924263, chr1-940004-940923, chr1-958865-959755, chr1-960362-961092, chr1-966515-967329, chr1-975776-976695, chr1-983851-984749, chr1-995451-996252, chr1-998647-999397, chr1-999937-1000449, chr1-1000553-1001085, chr1-1001650-1002463, chr1-1004791-1005643, chr1-1008881-1009758, chr1-1013003-1013921, chr1-1019151-1019993, chr1-1027680-1028412, chr1-1032734-1033630, chr1-1038430-1039236, chr1-1040409-1041296, chr1-1059182-1060025, chr1-1063688-1064577, chr1-1068898-1069703, chr1-1079480-1080396, chr1-1098904-1099765, chr1-1103977-1104847, chr1-1115800-1116696, chr1-1121837-1122746, chr1-1136269-1136824, chr1-1136987-1137806, chr1-1143915-1144776, chr1-1149743-1150641, chr1-1151147-1151985, chr1-1171535-1172430, chr1-1173390-1174325, chr1-1179057-1179907, chr1-1182517-1183452, chr1-1196452-1197343, chr1-1201060-1201925, chr1-1206199-1207074, chr1-1207967-1208643, chr1-1208768-1209375, chr1-1212680-1213448, chr1-1216767-1217568, chr1-1219124-1219990, chr1-1221799-1222650, chr1-1231675-1232596, chr1-1246340-1247167, chr1-1247438-1248381, chr1-1250603-1251443, chr1-1259822-1260759, chr1-1261922-1262753, chr1-1264837-1265679, chr1-1267340-1268176, chr1-1273488-1274400, chr1-1280704-1281517, chr1-1289954-1290836, chr1-1291549-1292410, chr1-1293405-1294303, chr1-1305205-1306136, chr1-1307807-1308738, chr1-1324303-1325203, chr1-1349039-1349947, chr1-1355121-1355882, chr1-1358247-1359047, chr1-1371382-1371854, chr1-1371945-1372343, chr1-1374956-1375847, chr1-1380358-1381189, chr1-1381387-1382151, chr1-1399018-1399920, chr1-1406892-1407778, chr1-1419741-1420647, chr1-1425402-1426305, ...]\n",
       "\n",
       "[116490 rows x 0 columns]"
      ]
     },
     "execution_count": 6,
     "metadata": {},
     "output_type": "execute_result"
    }
   ],
   "source": [
    "peaks_df = pd.DataFrame(index=adata_atac.var_names)\n",
    "peaks_df"
   ]
  },
  {
   "cell_type": "markdown",
   "metadata": {},
   "source": [
    "### 获取基因组坐标"
   ]
  },
  {
   "cell_type": "code",
   "execution_count": 7,
   "metadata": {},
   "outputs": [],
   "source": [
    "import pyensembl as en\n",
    "from pyensembl import EnsemblRelease\n",
    "\n",
    "genome = EnsemblRelease(98)\n",
    "chrom=[]\n",
    "chromStart=[]\n",
    "chromEnd=[]\n",
    "for i in adata_gex.var['gene_id']:\n",
    "    gene = genome.gene_by_id(i)\n",
    "    if gene:\n",
    "        # chrom.append(f\"chr{gene.contig}\")\n",
    "        chrom.append(gene.contig)\n",
    "        chromStart.append(gene.start)\n",
    "        chromEnd.append(gene.end)\n",
    "    else:\n",
    "        print(f\"Gene with ID {i} not found.\")"
   ]
  },
  {
   "cell_type": "code",
   "execution_count": 9,
   "metadata": {},
   "outputs": [],
   "source": [
    "# import pandas as pd\n",
    "# series_obj = pd.Series(chrom,index=adata_gex.var_names)\n",
    "# series_obj\n",
    "# chr_list=series_obj.drop_duplicates()\n",
    "# chr_list.pop('AL592183.1')\n",
    "# chr_list.pop('AC240274.1')\n",
    "# chr_list"
   ]
  },
  {
   "cell_type": "code",
   "execution_count": 10,
   "metadata": {},
   "outputs": [],
   "source": [
    "chr_list=['1', '2', '3', '4', '5', '6', '7', '8', '9', '10', \n",
    "          '11', '12', '13', '14', '15', '16', '17', '18', '19', \n",
    "          '20', '21', '22', 'X', 'Y', 'MT']"
   ]
  },
  {
   "cell_type": "code",
   "execution_count": 11,
   "metadata": {},
   "outputs": [
    {
     "data": {
      "text/plain": [
       "AL627309.5          chr1\n",
       "LINC01409           chr1\n",
       "LINC01128           chr1\n",
       "NOC2L               chr1\n",
       "KLHL17              chr1\n",
       "                 ...    \n",
       "MT-ND5             chrMT\n",
       "MT-ND6             chrMT\n",
       "MT-CYB             chrMT\n",
       "AL592183.1    GL000219.1\n",
       "AC240274.1    KI270711.1\n",
       "Length: 13431, dtype: object"
      ]
     },
     "execution_count": 11,
     "metadata": {},
     "output_type": "execute_result"
    }
   ],
   "source": [
    "chrom_list=[]\n",
    "for i in chrom:\n",
    "    if i in chr_list:\n",
    "        chrom_list.append(f\"chr{i}\")\n",
    "    else :\n",
    "        chrom_list.append(i)\n",
    "chrom_series=pd.Series(chrom_list,index=adata_gex.var_names)\n",
    "chrom_series"
   ]
  },
  {
   "cell_type": "code",
   "execution_count": 12,
   "metadata": {},
   "outputs": [],
   "source": [
    "chromStart_series=pd.Series(chromStart,index=adata_gex.var_names)\n",
    "chromEnd_series=pd.Series(chromEnd,index=adata_gex.var_names)"
   ]
  },
  {
   "cell_type": "code",
   "execution_count": 13,
   "metadata": {},
   "outputs": [
    {
     "data": {
      "text/html": [
       "<div>\n",
       "<style scoped>\n",
       "    .dataframe tbody tr th:only-of-type {\n",
       "        vertical-align: middle;\n",
       "    }\n",
       "\n",
       "    .dataframe tbody tr th {\n",
       "        vertical-align: top;\n",
       "    }\n",
       "\n",
       "    .dataframe thead th {\n",
       "        text-align: right;\n",
       "    }\n",
       "</style>\n",
       "<table border=\"1\" class=\"dataframe\">\n",
       "  <thead>\n",
       "    <tr style=\"text-align: right;\">\n",
       "      <th></th>\n",
       "      <th>contig</th>\n",
       "      <th>start</th>\n",
       "      <th>end</th>\n",
       "    </tr>\n",
       "  </thead>\n",
       "  <tbody>\n",
       "    <tr>\n",
       "      <th>AL627309.5</th>\n",
       "      <td>chr1</td>\n",
       "      <td>141474</td>\n",
       "      <td>173862</td>\n",
       "    </tr>\n",
       "    <tr>\n",
       "      <th>LINC01409</th>\n",
       "      <td>chr1</td>\n",
       "      <td>778747</td>\n",
       "      <td>810065</td>\n",
       "    </tr>\n",
       "    <tr>\n",
       "      <th>LINC01128</th>\n",
       "      <td>chr1</td>\n",
       "      <td>825138</td>\n",
       "      <td>868202</td>\n",
       "    </tr>\n",
       "    <tr>\n",
       "      <th>NOC2L</th>\n",
       "      <td>chr1</td>\n",
       "      <td>944203</td>\n",
       "      <td>959309</td>\n",
       "    </tr>\n",
       "    <tr>\n",
       "      <th>KLHL17</th>\n",
       "      <td>chr1</td>\n",
       "      <td>960584</td>\n",
       "      <td>965719</td>\n",
       "    </tr>\n",
       "  </tbody>\n",
       "</table>\n",
       "</div>"
      ],
      "text/plain": [
       "           contig   start     end\n",
       "AL627309.5   chr1  141474  173862\n",
       "LINC01409    chr1  778747  810065\n",
       "LINC01128    chr1  825138  868202\n",
       "NOC2L        chr1  944203  959309\n",
       "KLHL17       chr1  960584  965719"
      ]
     },
     "execution_count": 13,
     "metadata": {},
     "output_type": "execute_result"
    }
   ],
   "source": [
    "genes_df[\"contig\"] = chrom_series\n",
    "genes_df[\"start\"] = chromStart_series.astype(int)\n",
    "genes_df[\"end\"] = chromEnd_series.astype(int)\n",
    "genes_df.head()"
   ]
  },
  {
   "cell_type": "markdown",
   "metadata": {},
   "source": [
    "### 填充peaks_df"
   ]
  },
  {
   "cell_type": "code",
   "execution_count": 14,
   "metadata": {},
   "outputs": [
    {
     "data": {
      "text/plain": [
       "Index(['chr1-9776-10668', 'chr1-180726-181005', 'chr1-181117-181803',\n",
       "       'chr1-191133-192055', 'chr1-267562-268456', 'chr1-629497-630394',\n",
       "       'chr1-633515-634474', 'chr1-778276-779191', 'chr1-816868-817761',\n",
       "       'chr1-822804-823597',\n",
       "       ...\n",
       "       'GL000195.1-137376-138301', 'GL000219.1-39933-40839',\n",
       "       'GL000219.1-42172-43054', 'GL000219.1-44703-45584',\n",
       "       'GL000219.1-45726-46450', 'GL000219.1-90062-90937',\n",
       "       'GL000219.1-99257-100160', 'KI270726.1-27152-28034',\n",
       "       'KI270713.1-21434-22336', 'KI270713.1-29629-30491'],\n",
       "      dtype='object', length=116490)"
      ]
     },
     "execution_count": 14,
     "metadata": {},
     "output_type": "execute_result"
    }
   ],
   "source": [
    "adata_atac.var_names"
   ]
  },
  {
   "cell_type": "code",
   "execution_count": 15,
   "metadata": {},
   "outputs": [
    {
     "data": {
      "text/plain": [
       "Index([         ['chr1', '9776', '10668'],       ['chr1', '180726', '181005'],\n",
       "             ['chr1', '181117', '181803'],       ['chr1', '191133', '192055'],\n",
       "             ['chr1', '267562', '268456'],       ['chr1', '629497', '630394'],\n",
       "             ['chr1', '633515', '634474'],       ['chr1', '778276', '779191'],\n",
       "             ['chr1', '816868', '817761'],       ['chr1', '822804', '823597'],\n",
       "       ...\n",
       "       ['GL000195.1', '137376', '138301'],   ['GL000219.1', '39933', '40839'],\n",
       "         ['GL000219.1', '42172', '43054'],   ['GL000219.1', '44703', '45584'],\n",
       "         ['GL000219.1', '45726', '46450'],   ['GL000219.1', '90062', '90937'],\n",
       "        ['GL000219.1', '99257', '100160'],   ['KI270726.1', '27152', '28034'],\n",
       "         ['KI270713.1', '21434', '22336'],   ['KI270713.1', '29629', '30491']],\n",
       "      dtype='object', length=116490)"
      ]
     },
     "execution_count": 15,
     "metadata": {},
     "output_type": "execute_result"
    }
   ],
   "source": [
    "split = adata_atac.var_names.str.split(r\"[-]\")\n",
    "split"
   ]
  },
  {
   "cell_type": "code",
   "execution_count": 16,
   "metadata": {},
   "outputs": [
    {
     "data": {
      "text/html": [
       "<div>\n",
       "<style scoped>\n",
       "    .dataframe tbody tr th:only-of-type {\n",
       "        vertical-align: middle;\n",
       "    }\n",
       "\n",
       "    .dataframe tbody tr th {\n",
       "        vertical-align: top;\n",
       "    }\n",
       "\n",
       "    .dataframe thead th {\n",
       "        text-align: right;\n",
       "    }\n",
       "</style>\n",
       "<table border=\"1\" class=\"dataframe\">\n",
       "  <thead>\n",
       "    <tr style=\"text-align: right;\">\n",
       "      <th></th>\n",
       "      <th>contig</th>\n",
       "      <th>start</th>\n",
       "      <th>end</th>\n",
       "    </tr>\n",
       "  </thead>\n",
       "  <tbody>\n",
       "    <tr>\n",
       "      <th>chr1-9776-10668</th>\n",
       "      <td>chr1</td>\n",
       "      <td>9776</td>\n",
       "      <td>10668</td>\n",
       "    </tr>\n",
       "    <tr>\n",
       "      <th>chr1-180726-181005</th>\n",
       "      <td>chr1</td>\n",
       "      <td>180726</td>\n",
       "      <td>181005</td>\n",
       "    </tr>\n",
       "    <tr>\n",
       "      <th>chr1-181117-181803</th>\n",
       "      <td>chr1</td>\n",
       "      <td>181117</td>\n",
       "      <td>181803</td>\n",
       "    </tr>\n",
       "    <tr>\n",
       "      <th>chr1-191133-192055</th>\n",
       "      <td>chr1</td>\n",
       "      <td>191133</td>\n",
       "      <td>192055</td>\n",
       "    </tr>\n",
       "    <tr>\n",
       "      <th>chr1-267562-268456</th>\n",
       "      <td>chr1</td>\n",
       "      <td>267562</td>\n",
       "      <td>268456</td>\n",
       "    </tr>\n",
       "  </tbody>\n",
       "</table>\n",
       "</div>"
      ],
      "text/plain": [
       "                   contig   start     end\n",
       "chr1-9776-10668      chr1    9776   10668\n",
       "chr1-180726-181005   chr1  180726  181005\n",
       "chr1-181117-181803   chr1  181117  181803\n",
       "chr1-191133-192055   chr1  191133  192055\n",
       "chr1-267562-268456   chr1  267562  268456"
      ]
     },
     "execution_count": 16,
     "metadata": {},
     "output_type": "execute_result"
    }
   ],
   "source": [
    "peaks_df[\"contig\"] = split.map(lambda x: x[0])\n",
    "peaks_df[\"start\"] = split.map(lambda x: x[1]).astype(int)\n",
    "peaks_df[\"end\"] = split.map(lambda x: x[2]).astype(int)\n",
    "peaks_df.head()"
   ]
  },
  {
   "cell_type": "code",
   "execution_count": 17,
   "metadata": {},
   "outputs": [
    {
     "data": {
      "text/plain": [
       "chr1-9776-10668                  chr1\n",
       "chr10-76080-76980               chr10\n",
       "chr11-191751-192617             chr11\n",
       "chr12-9843-10760                chr12\n",
       "chr13-18211626-18212529         chr13\n",
       "chr14-20177206-20178092         chr14\n",
       "chr15-20193051-20193997         chr15\n",
       "chr16-10596-11363               chr16\n",
       "chr17-112845-113742             chr17\n",
       "chr18-105358-106164             chr18\n",
       "chr19-246741-247622             chr19\n",
       "chr2-9996-10834                  chr2\n",
       "chr20-208722-209630             chr20\n",
       "chr21-5101508-5102412           chr21\n",
       "chr22-16601030-16601802         chr22\n",
       "chr3-10002-10967                 chr3\n",
       "chr4-28892-29787                 chr4\n",
       "chr5-11635-12498                 chr5\n",
       "chr6-148232-149038               chr6\n",
       "chr7-9697-10596                  chr7\n",
       "chr8-206533-207401               chr8\n",
       "chr9-10937-11786                 chr9\n",
       "chrX-251007-251829               chrX\n",
       "chrY-11295162-11295942           chrY\n",
       "GL000205.2-63003-63892     GL000205.2\n",
       "GL000195.1-23722-24627     GL000195.1\n",
       "GL000219.1-39933-40839     GL000219.1\n",
       "KI270726.1-27152-28034     KI270726.1\n",
       "KI270713.1-21434-22336     KI270713.1\n",
       "Name: contig, dtype: object"
      ]
     },
     "execution_count": 17,
     "metadata": {},
     "output_type": "execute_result"
    }
   ],
   "source": [
    "a=peaks_df['contig'].drop_duplicates()\n",
    "a"
   ]
  },
  {
   "cell_type": "code",
   "execution_count": 18,
   "metadata": {},
   "outputs": [
    {
     "data": {
      "text/plain": [
       "29"
      ]
     },
     "execution_count": 18,
     "metadata": {},
     "output_type": "execute_result"
    }
   ],
   "source": [
    "len(a)"
   ]
  },
  {
   "cell_type": "markdown",
   "metadata": {},
   "source": [
    "### 匹配"
   ]
  },
  {
   "cell_type": "code",
   "execution_count": 19,
   "metadata": {},
   "outputs": [
    {
     "data": {
      "text/html": [
       "<div>\n",
       "<style scoped>\n",
       "    .dataframe tbody tr th:only-of-type {\n",
       "        vertical-align: middle;\n",
       "    }\n",
       "\n",
       "    .dataframe tbody tr th {\n",
       "        vertical-align: top;\n",
       "    }\n",
       "\n",
       "    .dataframe thead th {\n",
       "        text-align: right;\n",
       "    }\n",
       "</style>\n",
       "<table border=\"1\" class=\"dataframe\">\n",
       "  <thead>\n",
       "    <tr style=\"text-align: right;\">\n",
       "      <th></th>\n",
       "      <th>contig</th>\n",
       "      <th>start</th>\n",
       "      <th>end</th>\n",
       "      <th>name</th>\n",
       "    </tr>\n",
       "  </thead>\n",
       "  <tbody>\n",
       "    <tr>\n",
       "      <th>AL627309.5</th>\n",
       "      <td>chr1</td>\n",
       "      <td>141474</td>\n",
       "      <td>173862</td>\n",
       "      <td>AL627309.5</td>\n",
       "    </tr>\n",
       "    <tr>\n",
       "      <th>LINC01409</th>\n",
       "      <td>chr1</td>\n",
       "      <td>778747</td>\n",
       "      <td>810065</td>\n",
       "      <td>LINC01409</td>\n",
       "    </tr>\n",
       "    <tr>\n",
       "      <th>LINC01128</th>\n",
       "      <td>chr1</td>\n",
       "      <td>825138</td>\n",
       "      <td>868202</td>\n",
       "      <td>LINC01128</td>\n",
       "    </tr>\n",
       "    <tr>\n",
       "      <th>NOC2L</th>\n",
       "      <td>chr1</td>\n",
       "      <td>944203</td>\n",
       "      <td>959309</td>\n",
       "      <td>NOC2L</td>\n",
       "    </tr>\n",
       "    <tr>\n",
       "      <th>KLHL17</th>\n",
       "      <td>chr1</td>\n",
       "      <td>960584</td>\n",
       "      <td>965719</td>\n",
       "      <td>KLHL17</td>\n",
       "    </tr>\n",
       "  </tbody>\n",
       "</table>\n",
       "</div>"
      ],
      "text/plain": [
       "           contig   start     end        name\n",
       "AL627309.5   chr1  141474  173862  AL627309.5\n",
       "LINC01409    chr1  778747  810065   LINC01409\n",
       "LINC01128    chr1  825138  868202   LINC01128\n",
       "NOC2L        chr1  944203  959309       NOC2L\n",
       "KLHL17       chr1  960584  965719      KLHL17"
      ]
     },
     "execution_count": 19,
     "metadata": {},
     "output_type": "execute_result"
    }
   ],
   "source": [
    "genes_df['name']=genes_df.index\n",
    "genes_df.head()"
   ]
  },
  {
   "cell_type": "code",
   "execution_count": 21,
   "metadata": {},
   "outputs": [
    {
     "name": "stdout",
     "output_type": "stream",
     "text": [
      "MT-CYB\n"
     ]
    }
   ],
   "source": [
    "print(genes_df['name']['MT-CYB'])"
   ]
  },
  {
   "cell_type": "code",
   "execution_count": 22,
   "metadata": {},
   "outputs": [
    {
     "data": {
      "text/html": [
       "<div>\n",
       "<style scoped>\n",
       "    .dataframe tbody tr th:only-of-type {\n",
       "        vertical-align: middle;\n",
       "    }\n",
       "\n",
       "    .dataframe tbody tr th {\n",
       "        vertical-align: top;\n",
       "    }\n",
       "\n",
       "    .dataframe thead th {\n",
       "        text-align: right;\n",
       "    }\n",
       "</style>\n",
       "<table border=\"1\" class=\"dataframe\">\n",
       "  <thead>\n",
       "    <tr style=\"text-align: right;\">\n",
       "      <th></th>\n",
       "      <th>contig</th>\n",
       "      <th>start</th>\n",
       "      <th>end</th>\n",
       "      <th>name</th>\n",
       "    </tr>\n",
       "  </thead>\n",
       "  <tbody>\n",
       "    <tr>\n",
       "      <th>chr1-9776-10668</th>\n",
       "      <td>chr1</td>\n",
       "      <td>9776</td>\n",
       "      <td>10668</td>\n",
       "      <td>chr1-9776-10668</td>\n",
       "    </tr>\n",
       "    <tr>\n",
       "      <th>chr1-180726-181005</th>\n",
       "      <td>chr1</td>\n",
       "      <td>180726</td>\n",
       "      <td>181005</td>\n",
       "      <td>chr1-180726-181005</td>\n",
       "    </tr>\n",
       "    <tr>\n",
       "      <th>chr1-181117-181803</th>\n",
       "      <td>chr1</td>\n",
       "      <td>181117</td>\n",
       "      <td>181803</td>\n",
       "      <td>chr1-181117-181803</td>\n",
       "    </tr>\n",
       "    <tr>\n",
       "      <th>chr1-191133-192055</th>\n",
       "      <td>chr1</td>\n",
       "      <td>191133</td>\n",
       "      <td>192055</td>\n",
       "      <td>chr1-191133-192055</td>\n",
       "    </tr>\n",
       "    <tr>\n",
       "      <th>chr1-267562-268456</th>\n",
       "      <td>chr1</td>\n",
       "      <td>267562</td>\n",
       "      <td>268456</td>\n",
       "      <td>chr1-267562-268456</td>\n",
       "    </tr>\n",
       "  </tbody>\n",
       "</table>\n",
       "</div>"
      ],
      "text/plain": [
       "                   contig   start     end                name\n",
       "chr1-9776-10668      chr1    9776   10668     chr1-9776-10668\n",
       "chr1-180726-181005   chr1  180726  181005  chr1-180726-181005\n",
       "chr1-181117-181803   chr1  181117  181803  chr1-181117-181803\n",
       "chr1-191133-192055   chr1  191133  192055  chr1-191133-192055\n",
       "chr1-267562-268456   chr1  267562  268456  chr1-267562-268456"
      ]
     },
     "execution_count": 22,
     "metadata": {},
     "output_type": "execute_result"
    }
   ],
   "source": [
    "peaks_df['name']=peaks_df.index\n",
    "peaks_df.head()"
   ]
  },
  {
   "cell_type": "code",
   "execution_count": 23,
   "metadata": {},
   "outputs": [],
   "source": [
    "genes_df['contig'] = genes_df['contig'].astype('category')\n",
    "peaks_df['contig'] = peaks_df['contig'].astype('category')\n",
    "\n",
    "# 根据'contig'列拆分数据\n",
    "genes_grouped = genes_df.groupby('contig')\n",
    "peaks_grouped = peaks_df.groupby('contig')"
   ]
  },
  {
   "cell_type": "code",
   "execution_count": 24,
   "metadata": {},
   "outputs": [
    {
     "data": {
      "text/plain": [
       "AL627309.5          chr1\n",
       "LINC01409           chr1\n",
       "LINC01128           chr1\n",
       "NOC2L               chr1\n",
       "KLHL17              chr1\n",
       "                 ...    \n",
       "MT-ND5             chrMT\n",
       "MT-ND6             chrMT\n",
       "MT-CYB             chrMT\n",
       "AL592183.1    GL000219.1\n",
       "AC240274.1    KI270711.1\n",
       "Name: contig, Length: 13431, dtype: category\n",
       "Categories (26, object): ['GL000219.1', 'KI270711.1', 'chr1', 'chr10', ..., 'chr8', 'chr9', 'chrMT', 'chrX']"
      ]
     },
     "execution_count": 24,
     "metadata": {},
     "output_type": "execute_result"
    }
   ],
   "source": [
    "genes_df['contig']"
   ]
  },
  {
   "cell_type": "code",
   "execution_count": 25,
   "metadata": {},
   "outputs": [
    {
     "data": {
      "text/plain": [
       "chr1-9776-10668                  chr1\n",
       "chr1-180726-181005               chr1\n",
       "chr1-181117-181803               chr1\n",
       "chr1-191133-192055               chr1\n",
       "chr1-267562-268456               chr1\n",
       "                              ...    \n",
       "GL000219.1-90062-90937     GL000219.1\n",
       "GL000219.1-99257-100160    GL000219.1\n",
       "KI270726.1-27152-28034     KI270726.1\n",
       "KI270713.1-21434-22336     KI270713.1\n",
       "KI270713.1-29629-30491     KI270713.1\n",
       "Name: contig, Length: 116490, dtype: category\n",
       "Categories (29, object): ['GL000195.1', 'GL000205.2', 'GL000219.1', 'KI270713.1', ..., 'chr8', 'chr9', 'chrX', 'chrY']"
      ]
     },
     "execution_count": 25,
     "metadata": {},
     "output_type": "execute_result"
    }
   ],
   "source": [
    "peaks_df['contig']"
   ]
  },
  {
   "cell_type": "code",
   "execution_count": 26,
   "metadata": {},
   "outputs": [],
   "source": [
    "genes_dict = {}\n",
    "peaks_dict = {}\n",
    "\n",
    "for contig, group in genes_grouped:\n",
    "    genes_dict[contig] = group\n",
    "\n",
    "for contig, group in peaks_grouped:\n",
    "    peaks_dict[contig] = group"
   ]
  },
  {
   "cell_type": "markdown",
   "metadata": {},
   "source": [
    "## 匹配"
   ]
  },
  {
   "cell_type": "code",
   "execution_count": 27,
   "metadata": {},
   "outputs": [],
   "source": [
    "from itertools import chain\n",
    "import pandas as pd\n",
    "import numpy as np\n",
    "\n",
    "\n",
    "# 初始化空列表来收集匹配的gene-peak pairs\n",
    "gene_peak_dict = {}\n",
    "neighborhood_size = 500000  # ±500kb\n",
    "\n",
    "# 遍历每个染色体的数据\n",
    "for contig, genes in genes_dict.items():\n",
    "    if contig in peaks_dict:\n",
    "        # print('染色体：',contig)\n",
    "        peaks = peaks_dict[contig]\n",
    "        \n",
    "        # 提取基因的名称、起始和终止位置作为NumPy数组\n",
    "        gene_names = genes['name'].values\n",
    "        gene_starts = genes['start'].values\n",
    "        gene_ends = genes['end'].values\n",
    "        \n",
    "        # 提取峰值的名称、起始和终止位置作为NumPy数组\n",
    "        peak_names = peaks['name'].values\n",
    "        peak_starts = peaks['start'].values\n",
    "        peak_ends = peaks['end'].values\n",
    "        \n",
    "        upstream_starts = np.maximum(0, gene_starts - neighborhood_size)\n",
    "        downstream_ends = gene_ends + neighborhood_size\n",
    "        \n",
    "        # 遍历基因数据\n",
    "        for gene_name, gene_start, gene_end, upstream_start, downstream_end in zip(\n",
    "                gene_names, gene_starts, gene_ends, upstream_starts, downstream_ends):\n",
    "            \n",
    "            # 在峰值数据中查找落在邻近区域内的峰值\n",
    "            upstream_mask = (peak_starts >= upstream_start) & (peak_ends < gene_start)\n",
    "            downstream_mask = (peak_starts > gene_end) & (peak_ends <= downstream_end)\n",
    "            \n",
    "            # 找到匹配的峰值\n",
    "            upstream_matching_peaks = peak_names[upstream_mask]\n",
    "            downstream_matching_peaks = peak_names[downstream_mask]\n",
    "            # 将匹配的gene-peak添加到列表\n",
    "            \n",
    "            # upstream_matching_peaks + [gene_name]+ downstream_matching_peaks\n",
    "            merged_list = list(chain(upstream_matching_peaks, [gene_name], downstream_matching_peaks))\n",
    "            gene_peak_dict[gene_name]=merged_list\n",
    "\n",
    "# # 将列表转换为DataFrame\n",
    "# gene_peak_pairs = pd.DataFrame(gene_peak_pairs_list, columns=['V1', 'V2'])\n",
    "\n",
    "# # 将结果保存到CSV文件\n",
    "# gene_peak_pairs.to_csv('gene_peak_pairs.csv', index=False)\n"
   ]
  },
  {
   "cell_type": "code",
   "execution_count": null,
   "metadata": {},
   "outputs": [],
   "source": [
    "len(gene_peak_dict)"
   ]
  },
  {
   "cell_type": "code",
   "execution_count": null,
   "metadata": {},
   "outputs": [],
   "source": [
    "gene_peak_df=  pd.DataFrame(dict([(k, pd.Series(v)) for k, v in gene_peak_dict.items()]))\n",
    "gene_peak_df"
   ]
  },
  {
   "cell_type": "code",
   "execution_count": 30,
   "metadata": {},
   "outputs": [],
   "source": [
    "gene_peak_df.to_csv('/home/zfeng/ssr/genes and peaks/gene_peak_df.csv', index=False)"
   ]
  },
  {
   "cell_type": "code",
   "execution_count": null,
   "metadata": {},
   "outputs": [],
   "source": []
  },
  {
   "cell_type": "code",
   "execution_count": null,
   "metadata": {},
   "outputs": [],
   "source": [
    "gene_peak_pd = pd.read_csv(\"/home/zfeng/ssr/genes and peaks/gene_peak_df.csv\")"
   ]
  },
  {
   "cell_type": "code",
   "execution_count": null,
   "metadata": {},
   "outputs": [],
   "source": [
    "pos={}\n",
    "for i in gene_peak_pd.columns:\n",
    "    gene_pos =(gene_peak_pd[i].dropna() == i).idxmax()\n",
    "    pos[i]=gene_pos"
   ]
  },
  {
   "cell_type": "code",
   "execution_count": null,
   "metadata": {},
   "outputs": [],
   "source": [
    "gene_positions_pd = gene_peak_pd"
   ]
  },
  {
   "cell_type": "code",
   "execution_count": null,
   "metadata": {},
   "outputs": [],
   "source": [
    "import pyensembl as en\n",
    "from pyensembl import EnsemblRelease\n",
    "genome = EnsemblRelease(98)\n",
    "t=0\n",
    "for i in rna.var['gene_id']:\n",
    "    gene = genome.gene_by_id(i)\n",
    "    if gene:\n",
    "        name=f\"chr{gene.contig}-{gene.start}-{gene.end}\"\n",
    "        if gene.gene_name in gene_positions_pd.columns:\n",
    "            t=t+1\n",
    "            gene_positions_pd[gene.gene_name][pos[gene.gene_name]]=name\n",
    "    else:\n",
    "        print(f\"Gene with ID {i} not found.\")"
   ]
  },
  {
   "cell_type": "code",
   "execution_count": null,
   "metadata": {},
   "outputs": [],
   "source": [
    "# genome.genes_by_name('MATR3')"
   ]
  },
  {
   "cell_type": "code",
   "execution_count": null,
   "metadata": {},
   "outputs": [],
   "source": [
    "# gene_positions_pd['MATR3-1'][pos['MATR3-1']]=f\"chr{5}-{139293674}-{139331677}\""
   ]
  },
  {
   "cell_type": "code",
   "execution_count": null,
   "metadata": {},
   "outputs": [],
   "source": [
    "gene_positions_pd.to_csv('./ocr_position.csv',index=False)"
   ]
  }
 ],
 "metadata": {
  "kernelspec": {
   "display_name": "ssr",
   "language": "python",
   "name": "python3"
  },
  "language_info": {
   "codemirror_mode": {
    "name": "ipython",
    "version": 3
   },
   "file_extension": ".py",
   "mimetype": "text/x-python",
   "name": "python",
   "nbconvert_exporter": "python",
   "pygments_lexer": "ipython3",
   "version": "3.10.14"
  }
 },
 "nbformat": 4,
 "nbformat_minor": 2
}
